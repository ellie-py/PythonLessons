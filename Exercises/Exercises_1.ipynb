{
  "nbformat": 4,
  "nbformat_minor": 0,
  "metadata": {
    "colab": {
      "provenance": [],
      "collapsed_sections": [],
      "authorship_tag": "ABX9TyOB6+gQcBSccI8leOm5yH9z"
    },
    "kernelspec": {
      "name": "python3",
      "display_name": "Python 3"
    },
    "language_info": {
      "name": "python"
    }
  },
  "cells": [
    {
      "cell_type": "markdown",
      "source": [
        "# پاسخ بعضی از تمرین‌های سری اول و دوم\n",
        "\n",
        "قراره توی این نوتبوک، چندتا از تمرین‌های سری اول و دوم رو حل کنیم\n",
        "\n",
        "\n",
        " حساب کردن معدل، و چاپ پیغام مرتبط\n",
        "\n",
        "دریافت یک عدد از کاربر و چاپ اینکه عدد توانی از دو است یا نه\n",
        "\n"
      ],
      "metadata": {
        "id": "aUuwJltx7-eS"
      }
    },
    {
      "cell_type": "markdown",
      "source": [
        "# محاسبه‌ی معدل و چاپ پیغام مناسب"
      ],
      "metadata": {
        "id": "yW7NZMnN-nwl"
      }
    },
    {
      "cell_type": "code",
      "source": [
        "tedad = input(\"Chand ta nomreh vared konim?\")\n",
        "tedad = int(tedad)\n",
        "\n",
        "i = 1\n",
        "\n",
        "majmou = 0\n",
        "\n",
        "while i <= tedad:\n",
        "  nomreh_str = input(f\"Lotfan nomreh {i}om ro vared konid: \")\n",
        "  nomreh = int(nomreh_str)\n",
        "  if nomreh <= 20:\n",
        "    majmou += nomreh\n",
        "    i += 1\n",
        "  else:\n",
        "    print(\"Nomreh bayad kuchektar ya mosavi e 20 bashe.\")\n",
        "\n",
        "moadel = majmou / tedad\n",
        "if moadel >= 18:\n",
        "  print(f\"Cheghadr aaaliiiiii, moadelet {moadel} shod.\")\n",
        "elif 16 <= moadel:\n",
        "  print(f\"Afarin! moadelet {moadel} shod.\")\n",
        "else:\n",
        "  print(f\"Sal e dige bishtar talash kon, emsal moadelet {moadel} shode!\")"
      ],
      "metadata": {
        "id": "ePBHP2iU3ku2"
      },
      "execution_count": null,
      "outputs": []
    },
    {
      "cell_type": "markdown",
      "source": [
        "# عدد ورودی توانی از دو است یا نه؟"
      ],
      "metadata": {
        "id": "QcSn0tynErmq"
      }
    },
    {
      "cell_type": "code",
      "source": [
        "adad_str = input(\"Lotfan yek adad e tabiee vared konid: \")\n",
        "adad = int(adad_str)  \n",
        "\n",
        "adad_2 = adad         \n",
        "\n",
        "while adad_2 > 1:           \n",
        "  if adad_2 % 2 == 1:\n",
        "    print(f\"{adad} tavani az 2 nist!\")\n",
        "    break\n",
        "  else:\n",
        "    adad_2 = adad_2 // 2\n",
        "else:\n",
        "  print (f\"{adad} tavani az 2 ast!\")\n"
      ],
      "metadata": {
        "id": "0RVG2MvF8AZR"
      },
      "execution_count": null,
      "outputs": []
    }
  ]
}