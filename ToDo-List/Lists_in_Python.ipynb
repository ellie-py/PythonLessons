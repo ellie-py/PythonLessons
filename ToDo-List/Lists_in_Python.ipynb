{
  "nbformat": 4,
  "nbformat_minor": 0,
  "metadata": {
    "colab": {
      "provenance": [],
      "collapsed_sections": [],
      "authorship_tag": "ABX9TyPYk4dktPUL+ojICAxy2hQ7"
    },
    "kernelspec": {
      "name": "python3",
      "display_name": "Python 3"
    },
    "language_info": {
      "name": "python"
    }
  },
  "cells": [
    {
      "cell_type": "markdown",
      "source": [
        "# لیست‌ها در پایتون\n",
        "\n",
        "توی پایتون هم، مشابه دنیای واقعی می‌تونید لیست داشته باشین. مثلاً یه لیست از اعداد یا لیستی از سترینگ‌ها\n",
        "\n",
        "😯 یا حتی یه لیست از لیست‌ها \n",
        "\n",
        "توی این درس، یه مقدمه‌ای از لیست‌ها رو داریم توی پایتون، بعدش با هم نگاه می‌کنیم به لیست کارهایی که من هر بار انجام می‌دم تا یه ویدئو درست کنم\n",
        "\n",
        "لیست مفاهیم این ویدئو\n",
        "\n",
        "\n",
        "*   لیستها\n",
        "*   len\n",
        "*   list indexing/slicing\n",
        "*   .append\n",
        "*   .pop\n",
        "*   .insert\n",
        "\n"
      ],
      "metadata": {
        "id": "h9quxEqNewWc"
      }
    },
    {
      "cell_type": "code",
      "source": [
        "todo_list = [\"ye mozou e jaleb peyda kon\", \"code esh ro ye bar emtehan kon\", \n",
        "             \"video ro zabt kon\",\n",
        "             \"check kon tool e video kamtar az 30 daghigheh basheh\",\n",
        "             \"Be andazeh ye kafi toosh joke dare?\",\n",
        "             \"Video ro edit kon\",\n",
        "             \"video ro upload kon\",\n",
        "             \"donya ro khabar kon ke video ye jadid umadeh\"]\n",
        "\n",
        "done = []\n",
        "\n",
        "tedad = len(todo_list)\n",
        "while todo_list:\n",
        "  print(todo_list[0])\n",
        "  jadid = input(\"Har vaght anjamesh dadi, Enter ro bezan, vaella begoo chi ezafeh konam be list: \")\n",
        "  if jadid:\n",
        "    todo_list.append(jadid)\n",
        "    tedad += 1\n",
        "  else:\n",
        "    done.append(todo_list.pop(0))\n",
        "  print(f\"{len(done)/tedad * 100}% karhaye anjam shodeh\")\n"
      ],
      "metadata": {
        "id": "Kr4B5gCTFN-q"
      },
      "execution_count": null,
      "outputs": []
    }
  ]
}