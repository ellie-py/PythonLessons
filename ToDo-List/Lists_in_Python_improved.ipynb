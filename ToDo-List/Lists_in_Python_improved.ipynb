{
  "nbformat": 4,
  "nbformat_minor": 0,
  "metadata": {
    "colab": {
      "provenance": [],
      "collapsed_sections": [],
      "authorship_tag": "ABX9TyMlgFTZ7Us8BeDkQj0EDry0"
    },
    "kernelspec": {
      "name": "python3",
      "display_name": "Python 3"
    },
    "language_info": {
      "name": "python"
    }
  },
  "cells": [
    {
      "cell_type": "markdown",
      "source": [
        "# لیست‌ها در پایتون\n",
        "\n",
        "توی پایتون هم، مشابه دنیای واقعی می‌تونید لیست داشته باشین. مثلاً یه لیست از اعداد یا لیستی از سترینگ‌ها\n",
        "\n",
        "😯 یا حتی یه لیست از لیست‌ها \n",
        "\n",
        "توی این درس، یه مقدمه‌ای از لیست‌ها رو داریم توی پایتون، بعدش با هم نگاه می‌کنیم به لیست کارهایی که من هر بار انجام می‌دم تا یه ویدئو درست کنم\n",
        "\n",
        "لیست مفاهیم این ویدئو\n",
        "\n",
        "\n",
        "*   لیستها\n",
        "*   len\n",
        "*   list indexing/slicing\n",
        "*   .append\n",
        "*   .pop\n",
        "*   .insert\n",
        "\n"
      ],
      "metadata": {
        "id": "h9quxEqNewWc"
      }
    },
    {
      "cell_type": "code",
      "source": [
        "from IPython.display import clear_output "
      ],
      "metadata": {
        "id": "_kK66yMuF0g0"
      },
      "execution_count": null,
      "outputs": []
    },
    {
      "cell_type": "code",
      "source": [
        "def print_todo_lists(todo, done):\n",
        "  clear_output()\n",
        "  table_height = max(len(todo), len(done))\n",
        "  table_width  = 0\n",
        "  for i in range(len(todo)):\n",
        "    table_width = max(table_width, len(todo[i]))\n",
        "  for i in range(len(done)):\n",
        "    table_width = max(table_width, len(done[i]))\n",
        "\n",
        "  titles = [\"To Do\", \"Done!\"]\n",
        "  # titles = [\"باید انجام بدم\", \"انجام شد!\"]\n",
        "  print(\"═\" * ((table_width + 3) * len(titles) + 1))\n",
        "\n",
        "  title_str = \" \"\n",
        "  for t in titles:\n",
        "    current_title = \" \" * ((table_width - len(t)) // 2)\n",
        "    current_title += t\n",
        "    current_title += \" \" * (table_width - len(current_title))\n",
        "\n",
        "    title_str += current_title\n",
        "  print(title_str)\n",
        "\n",
        "  top_line = \"\"\n",
        "  for _ in titles:\n",
        "    top_line += \"─\" * (table_width + 3) + \"┰\"\n",
        "  top_line = top_line[:-1]\n",
        "  print(top_line)\n",
        "\n",
        "  if len(todo) > 0:\n",
        "    print(\"┏\"+\"━\"*len(todo[0])+\"┓\"+ \n",
        "            \" \"*(table_width-len(todo[0])) + \" ┃\")\n",
        "\n",
        "  for i in range(table_height):\n",
        "    line = \"\"\n",
        "    todo_box_char = \"☐ \" if i else \"┃\"\n",
        "    if i < len(todo):\n",
        "      line += todo_box_char + todo[i] +  (\" \" if i else \"┃ \") + \\\n",
        "              \" \" * (table_width - len(todo[i])) + \"┃\"\n",
        "    else:\n",
        "      line += \" \" * (table_width + 2) + \" ┃\"\n",
        "\n",
        "    if i < len(done):\n",
        "      line += \"✅ \" + done[i] + \" \" * (table_width - len(done[i]) + 1)\n",
        "    else:\n",
        "      line += \" \" * (table_width + 1)\n",
        "\n",
        "    print(line)\n",
        "    if i == 0 and todo:\n",
        "      print(\"┗\" + \"━\"*len(todo[0]) + \"┛\" + \n",
        "            \" \"*(table_width-len(todo[0])) + \" ┃\")\n",
        "    else:\n",
        "      print(\" \" * (table_width + 2) + \" ┃\")\n",
        "\n",
        "  bottom_line = \"\"\n",
        "  for _ in titles:\n",
        "    bottom_line += \"─\" * (table_width + 3) + \"┸\"\n",
        "  bottom_line = bottom_line[:-1]\n",
        "  print(bottom_line)\n",
        "  print()\n",
        "  print()\n",
        "\n",
        "\n",
        "todo_list = [\"Mozou e jaleb peyda kon\", \n",
        "             \"Code esh ro emtehan kon\", \n",
        "             \"Video ro zabt kon\",\n",
        "             \"Video kamtar az 30 Min?\",\n",
        "             \"Joke dare toosh?\",\n",
        "             \"Video ro edit kon\",\n",
        "             \"Video ro upload kon\",\n",
        "             \"Donya ro khabar kon\"]\n",
        "\n",
        "done = []\n",
        "achieved = 0\n",
        "tedad = len(todo_list)\n",
        "while todo_list:\n",
        "  print_todo_lists(todo_list, done)\n",
        "  print(f\"{'-'*int(achieved*0.4)}{achieved}%\")\n",
        "  print()\n",
        "  print(\"Anjam shod? Enter bezan, dar gheyr e in surat, \")\n",
        "  jadid = input(\"begoo chi ezafeh konam be list: \")\n",
        "  if jadid:\n",
        "    todo_list.append(jadid)\n",
        "    tedad += 1\n",
        "  else:\n",
        "    done.append(todo_list.pop(0))\n",
        "  achieved = len(done)/tedad * 100\n",
        "  \n",
        "print_todo_lists(todo_list, done)\n",
        "print(f\"{'-'*int(achieved*0.4)}{achieved}%\")\n"
      ],
      "metadata": {
        "colab": {
          "base_uri": "https://localhost:8080/"
        },
        "id": "Kr4B5gCTFN-q",
        "outputId": "21cd394a-87f5-4bdf-c3df-756858ddc16d"
      },
      "execution_count": null,
      "outputs": [
        {
          "output_type": "stream",
          "name": "stdout",
          "text": [
            "═════════════════════════════════════════════════════\n",
            "          To Do                  Done!         \n",
            "──────────────────────────┰──────────────────────────\n",
            "                          ┃✅ Mozou e jaleb peyda kon \n",
            "                          ┃\n",
            "                          ┃✅ Code esh ro emtehan kon \n",
            "                          ┃\n",
            "                          ┃✅ Video ro zabt kon       \n",
            "                          ┃\n",
            "                          ┃✅ Video kamtar az 30 Min? \n",
            "                          ┃\n",
            "                          ┃✅ Joke dare toosh?        \n",
            "                          ┃\n",
            "                          ┃✅ Video ro edit kon       \n",
            "                          ┃\n",
            "                          ┃✅ Video ro upload kon     \n",
            "                          ┃\n",
            "                          ┃✅ Donya ro khabar kon     \n",
            "                          ┃\n",
            "                          ┃✅ Quiz                    \n",
            "                          ┃\n",
            "                          ┃✅ Tamrin                  \n",
            "                          ┃\n",
            "──────────────────────────┸──────────────────────────\n",
            "\n",
            "\n",
            "----------------------------------------100.0%\n"
          ]
        }
      ]
    },
    {
      "cell_type": "code",
      "source": [],
      "metadata": {
        "id": "kncq6gO_Hfzp"
      },
      "execution_count": null,
      "outputs": []
    }
  ]
}