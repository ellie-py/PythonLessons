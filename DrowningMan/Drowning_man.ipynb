{
  "nbformat": 4,
  "nbformat_minor": 0,
  "metadata": {
    "colab": {
      "provenance": [],
      "collapsed_sections": [],
      "authorship_tag": "ABX9TyMT70eHRFPEvfTDpaB4bsLe"
    },
    "kernelspec": {
      "name": "python3",
      "display_name": "Python 3"
    },
    "language_info": {
      "name": "python"
    }
  },
  "cells": [
    {
      "cell_type": "markdown",
      "source": [
        "# آدم غرق شونده (در اشتباهات خویش)\n",
        "\n",
        "قراره باهم کد یه بازی رو بنویسیم که مشابه‌اش رو احتمالاً جاهای دیگه هم دیدین\n",
        "\n",
        "لیست مفاهیم این درس (قسمت اول)\n",
        "\n",
        "*   in\n",
        "*   not\n",
        "*   لیست با مقدار اولیه\n",
        "*   pass / ...\n",
        "*   random.choice\n",
        "\n",
        "\n",
        "لیست مفاهیم این درس (قسمت دوم)\n",
        "\n",
        "*   booleans\n",
        "*   and, or\n",
        "*   تبدیل سترینگ به لیست و برعکس\n"
      ],
      "metadata": {
        "id": "hSxaRJvD6KlE"
      }
    },
    {
      "cell_type": "code",
      "source": [
        "import random\n",
        "from IPython.display import clear_output"
      ],
      "metadata": {
        "id": "qPRzp2aT8U2C"
      },
      "execution_count": null,
      "outputs": []
    },
    {
      "cell_type": "code",
      "source": [
        "names = [\"احسان\", \"مونا\", \"فائزه\", \"زهرا\", \"مریم\", \"زینب\", \"شقایق\", \"الهام\", \"لیلا\", \"دریا\",\n",
        "         \"عماد\", \"پیام\", \"یسرا\", \"یلدا\", \"سارا\", \"سمانه\", \"شیوا\", \"ریحانه\", \"رضا\", \"جواد\",\n",
        "         \"سامیه\", \"صدیقه\", \"نیما\", \"ناهید\", \"مژده\", \"مژگان\", \"مهناز\", \"مرضیه\", \"ماریا\", \"مجید\",\n",
        "         \"هدی\", \"محسن\", \"حمید\", \"فاطمه\", \"ازاده\", \"اوا\", \"عطا\", \"زهره\", \"امینه\", \"مینا\",\n",
        "         \"عالیه\", \"علی\", \"افسانه\", \"نیکا\", \"ایدا\", \"نجمه\", \"غزال\", \"فرشته\", \"عبدالرحیم\", \"عصمت\", \n",
        "         \"امیر\", \"عرفان\", \"نازنین\", \"رحمان\", \"دانیال\", \"مائده\", \"حسین\", \"محبوبه\", \"مهتا\", \"الهه\",\n",
        "         \"امین\", \"ماهان\", \"سپیده\", \"محمد\", \"احمد\", \"امید\", \"پوریا\", \"مبین\", \"تکتم\"\n",
        "         ]"
      ],
      "metadata": {
        "id": "T9IL5_8p9GVE"
      },
      "execution_count": null,
      "outputs": []
    },
    {
      "cell_type": "code",
      "source": [
        "sheklak = [\n",
        "\"\"\"\n",
        "          همه چی آرومه، من چقدر خوشحالم \n",
        "     O\n",
        "    /|\\\\\n",
        "    \\|/\n",
        "    | |\n",
        "   _| |_\n",
        "\"\"\",\n",
        "\"\"\"\n",
        "          چیزی نشده که هنوز\n",
        "     O\n",
        "    /|\\\\\n",
        "    \\|/\n",
        "    | |\n",
        "____|_|____\n",
        "\n",
        "\"\"\",\n",
        "\"\"\"\n",
        "          گاهی اوقات پیش میاد دیگه\n",
        "     O\n",
        "  __/|\\__\n",
        "     |\n",
        "____|_|____\n",
        "\n",
        "\n",
        "\"\"\",\n",
        "\"\"\"\n",
        "          انسان جایزالخطاست\n",
        "  __ O __\n",
        "    \\|/\n",
        "_____|_____\n",
        "\n",
        "\n",
        "\n",
        "\"\"\",\n",
        "\"\"\"\n",
        "          ای بابا! چرا همچین شد؟\n",
        "  \\  O  /\n",
        "___\\ | /____\n",
        "\n",
        "\n",
        "\n",
        "\n",
        "\"\"\",\n",
        "\"\"\"\n",
        "          کممممممممممممممممک \n",
        "__\\__O__/__\n",
        "\n",
        "\n",
        "\n",
        "\n",
        "\n",
        "\"\"\",\n",
        "\"\"\"\n",
        "          غلغل لللللللل غغغغغغغغ \n",
        "           o\n",
        "________o________\n",
        "    \\ O /\n",
        "\n",
        "\n",
        "\n",
        "\"\"\",\n",
        "]"
      ],
      "metadata": {
        "id": "Y7TjdFaYkd5z"
      },
      "execution_count": null,
      "outputs": []
    },
    {
      "cell_type": "code",
      "source": [
        "esm_ramz = random.choice(names)\n",
        "\n",
        "esm_hads = ['ـ'] * len(esm_ramz)\n",
        "khataha = []\n",
        "\n",
        "esm_ramz = list(esm_ramz)\n",
        "i = 0 \n",
        "while i < len(esm_ramz):\n",
        "  if esm_ramz[i] in [\"آ\", \"أ\", \"إ\"]:\n",
        "    esm_ramz[i] = \"ا\"\n",
        "  i += 1\n",
        "esm_ramz = ''.join(esm_ramz)\n",
        "\n",
        "\n",
        "print(\"اسم\", esm_hads)\n",
        "\n",
        "while len(khataha) < 6:\n",
        "  voroodi = input(\"یه حرف وارد کن یا اگه حدس زدی، بگو اسم مورد نظر چیه \")\n",
        "  \n",
        "  voroodi = list(voroodi)\n",
        "  i = 0 \n",
        "  while i < len(voroodi):\n",
        "    if voroodi[i] in [\"آ\", \"أ\", \"إ\"]:\n",
        "      voroodi[i] = \"ا\"\n",
        "    i += 1\n",
        "  voroodi = ''.join(voroodi)\n",
        "\n",
        "  clear_output()\n",
        "  if len(voroodi) == 1:\n",
        "    if voroodi in esm_ramz:\n",
        "      i = 0\n",
        "      while i < len(esm_ramz):\n",
        "        if esm_ramz[i] == voroodi:\n",
        "          esm_hads[i] = voroodi\n",
        "        i += 1\n",
        "    elif voroodi not in khataha:\n",
        "      khataha.append(voroodi)\n",
        "\n",
        "    if \"ـ\" not in esm_hads:\n",
        "      print(\"برنده شدی! همونطور که حدس زدی، اسم رمز\", esm_ramz, \"بود\")\n",
        "      break\n",
        "  elif len(voroodi) > 1 and len(voroodi) == len(esm_ramz):\n",
        "    if voroodi == esm_ramz:\n",
        "      print(\"برنده شدی! همونطور که حدس زدی، اسم رمز\", esm_ramz, \"بود\")\n",
        "      break\n",
        "    elif voroodi not in khataha:\n",
        "      khataha.append(voroodi)\n",
        "  else:\n",
        "    print(\"ورودی غیر قابل قبوله\")\n",
        "\n",
        "  print(\"اسم:\", esm_hads)\n",
        "  print(\"اشتباهات:\", khataha)\n",
        "  print(sheklak[len(khataha)])\n",
        "else:\n",
        "  print(\"متأسفم، شما برنده نشدی! اسم رمز\", esm_ramz, \"بود\")"
      ],
      "metadata": {
        "id": "iotSQhPmiAmE"
      },
      "execution_count": null,
      "outputs": []
    },
    {
      "cell_type": "code",
      "source": [],
      "metadata": {
        "id": "5j7wzkYSlksF"
      },
      "execution_count": null,
      "outputs": []
    }
  ]
}