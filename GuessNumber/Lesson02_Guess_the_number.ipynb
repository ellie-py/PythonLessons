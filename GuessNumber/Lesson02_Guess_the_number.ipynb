{
  "nbformat": 4,
  "nbformat_minor": 0,
  "metadata": {
    "colab": {
      "provenance": [],
      "collapsed_sections": [],
      "authorship_tag": "ABX9TyOUrB4ZCcwsalAY+LuG8ERP",
      "include_colab_link": true
    },
    "kernelspec": {
      "name": "python3",
      "display_name": "Python 3"
    },
    "language_info": {
      "name": "python"
    }
  },
  "cells": [
    {
      "cell_type": "markdown",
      "metadata": {
        "id": "view-in-github",
        "colab_type": "text"
      },
      "source": [
        "<a href=\"https://colab.research.google.com/github/ellie-py/PythonLessons/blob/main/Lesson02_Guess_the_number.ipynb\" target=\"_parent\"><img src=\"https://colab.research.google.com/assets/colab-badge.svg\" alt=\"Open In Colab\"/></a>"
      ]
    },
    {
      "cell_type": "markdown",
      "source": [
        "# پیاده‌سازی بازی «عدد من رو حدس بزن» با پایتون\n",
        "\n",
        "توی این درس، قراره کد بازی عدد من رو حدس بزن رو بنویسیم. بازی به این شکله که کامپیوتر یک عدد بین ۱ تا ۱۰۰۰ رو انتخاب می‌کنه و از بازیکن می‌خواد که اون عدد رو حدس بزنه. بازیکن ۱۰ بار فرصت داره که این عدد رو پیدا کنه. \n",
        "بعد از هر حدس کامپیوتر می‌گه که اون حدس درسته یا نه، و اگه غلطه، آیا عدد مورد نظر بزرگتر و یا کوچیکتر از حدس بازیکنه\n",
        "\n",
        "خب همونطور که از قوانین بازی مشخصه، قراره دوباره از دستورات پرینت، تولید عدد رندوم و دستورات شرطی استفاده کنیم"
      ],
      "metadata": {
        "id": "szmVvee0cQ_-"
      }
    },
    {
      "cell_type": "markdown",
      "source": [
        "# مفاهیم جدید این درس\n",
        "\n",
        "* input()\n",
        "* int()\n",
        "* < , <= , > , >=\n",
        "* while\n",
        "* break"
      ],
      "metadata": {
        "id": "hIhfhuRpdm2a"
      }
    },
    {
      "cell_type": "code",
      "source": [
        "import random\n"
      ],
      "metadata": {
        "id": "5s6_-L77tOrj"
      },
      "execution_count": null,
      "outputs": []
    },
    {
      "cell_type": "code",
      "source": [
        "i = 1\n",
        "adad = random.randint(1, 1000)\n",
        "\n",
        "while i <= 10:\n",
        "  voroodi = input(\"Adad e man ro hads bezan: \")\n",
        "  hads = int(voroodi)\n",
        "\n",
        "  if adad == hads:\n",
        "    print(\"Huraaaaaaaa! Barandeh shodi :) \")\n",
        "    break\n",
        "  elif adad < hads:\n",
        "    print(\"Na! adad <\", hads)\n",
        "  else:\n",
        "    print(\"Na! adad >\", hads)\n",
        "  i = i + 1\n",
        "else:\n",
        "  print(\"Sorry! Shoma barandeh nashodid :( Adad e mored e nazar\", adad, \"bood\")"
      ],
      "metadata": {
        "id": "1nYUZd7h1bPg"
      },
      "execution_count": null,
      "outputs": []
    },
    {
      "cell_type": "code",
      "source": [],
      "metadata": {
        "id": "JgW2SNsAh6JQ"
      },
      "execution_count": null,
      "outputs": []
    }
  ]
}