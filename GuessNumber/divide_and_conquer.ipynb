{
  "nbformat": 4,
  "nbformat_minor": 0,
  "metadata": {
    "colab": {
      "provenance": [],
      "collapsed_sections": [],
      "authorship_tag": "ABX9TyPiR/6d0EsIUUv8I5041/ub"
    },
    "kernelspec": {
      "name": "python3",
      "display_name": "Python 3"
    },
    "language_info": {
      "name": "python"
    }
  },
  "cells": [
    {
      "cell_type": "markdown",
      "source": [
        "# تفرقه بنداز و حکومت کن\n",
        "\n",
        "یک سری از مسئله‌ها رو می‌شه به روشی حل کرد که مسأله رو به مسئله‌های کوچیکتر تقسیم می‌کنی و اون مسئله‌ی کوچیک رو حل می‌کنی. کوچیکتر کردن مسأله باعث می‌شه که بتونی سریعتر حلش کنی. به عنوان مثال، اگه شما بخواین بازی عدد من رو حدس بزن رو همیشه برنده بشی، بهترین راه حل اینه که مسئله یا اینجا بازه‌ی عددهات رو کوچک و کوچکتر کنید تا سریعتر به جواب برسین. توی این درس، می‌خوایم ببینیم که چطور یه برنامه بنویسیم که این کار بکنه. دونستن این روش حل مسائل، ممکنه جاهای دیگه هم به دردتون بخوره و فقط مربوط به مسائل برنامه‌نویسی نمی‌شه. مثلاً به این فکر کنین که شما چطوری توی یک دیکشنری و یا فرهنگ لغت، دنبال یک کلمه می‌گردین؟\n",
        "\n",
        "## موضوعات این درس\n",
        "\n",
        "\n",
        "*   \"+\", \"-\", \"*\", \"/\"  جمع، تفریق، ضرب و تقسیم در پایتون\n",
        "*   // , %                  خارج قسمت و باقیمانده‌ی تقسیم\n",
        "*   +=                \n",
        "*   سترینگ‌های فرمت شده در پایتون\n",
        "*   روش حل مسائل با تفرقه بنداز و حکومت کن\n"
      ],
      "metadata": {
        "id": "EQ87cYMtmkUv"
      }
    },
    {
      "cell_type": "code",
      "source": [
        "a = 1\n",
        "z = 1000\n",
        "\n",
        "i = 1\n",
        "\n",
        "while i <= 10:\n",
        "  hads = (a + z) // 2\n",
        "  alamat = input(f\"{i}: Hads e man {hads} e. \")\n",
        "  if alamat == \"=\":\n",
        "    print(\"Man ke gofteh boodam behtarinam :) \")\n",
        "    break\n",
        "  elif alamat == \"<\":\n",
        "    z = hads - 1\n",
        "  elif alamat == \">\":\n",
        "    a = hads + 1\n",
        "  else:\n",
        "    print(\"alamat faghat mitune '<', '=' ya '>' bashe. lotfan yek alamat e monaseb vared konid.\")\n",
        "    i -= 1\n",
        "  i += 1\n",
        "else:\n",
        "  print(\"Ye jaye kar milangeh! Baeed bood az man ke barandeh nasham :/ \")\n",
        "  "
      ],
      "metadata": {
        "id": "6GK1ShQww7aN"
      },
      "execution_count": null,
      "outputs": []
    }
  ]
}