{
  "nbformat": 4,
  "nbformat_minor": 0,
  "metadata": {
    "colab": {
      "name": "lesson1_Tass.ipynb",
      "provenance": [],
      "collapsed_sections": []
    },
    "kernelspec": {
      "name": "python3",
      "display_name": "Python 3"
    },
    "language_info": {
      "name": "python"
    }
  },
  "cells": [
    {
      "cell_type": "markdown",
      "source": [
        "# درس اول پایتون، شبیه‌سازی تاس\n",
        "\n",
        "توی اولین درس راجع به شبیه‌سازی تاس صحبت می‌کنیم. مطالبی که توی این درس یاد می‌گیریم، شامل دستورات تولید اعداد تصادفی و نمایش متن و دستورات شرطی است\n",
        "\n",
        "\n",
        "\n",
        "*   print\n",
        "*   import\n",
        "*   random\n",
        "*   if / elif / else\n",
        "\n"
      ],
      "metadata": {
        "id": "qnitpZVDtrmq"
      }
    },
    {
      "cell_type": "code",
      "execution_count": 1,
      "metadata": {
        "id": "var9n7LftIj4"
      },
      "outputs": [],
      "source": [
        "import random\n"
      ]
    },
    {
      "cell_type": "markdown",
      "source": [
        "# تولید شکل تاس"
      ],
      "metadata": {
        "id": "YeDKRZFg2xo6"
      }
    },
    {
      "cell_type": "code",
      "source": [
        "TASS_1 = \"\"\"\n",
        "┌───────┐\n",
        "│       │\n",
        "│   o   │\n",
        "│       │\n",
        "└───────┘\n",
        "\"\"\"\n",
        "\n",
        "TASS_2 = \"\"\"\n",
        "┌───────┐\n",
        "│       │\n",
        "│  o o  │\n",
        "│       │\n",
        "└───────┘\n",
        "\"\"\"\n",
        "\n",
        "TASS_3 = \"\"\"\n",
        "┌───────┐\n",
        "│       │\n",
        "│ o o o │\n",
        "│       │\n",
        "└───────┘\n",
        "\"\"\"\n",
        "\n",
        "TASS_4 = \"\"\"\n",
        "┌───────┐\n",
        "│  o o  │\n",
        "│       │\n",
        "│  o o  │\n",
        "└───────┘\n",
        "\"\"\"\n",
        "\n",
        "TASS_5 = \"\"\"\n",
        "┌───────┐\n",
        "│  o o  │\n",
        "│   o   │\n",
        "│  o o  │\n",
        "└───────┘\n",
        "\"\"\"\n",
        "\n",
        "TASS_6 = \"\"\"\n",
        "┌───────┐\n",
        "│ o   o │\n",
        "│ o   o │\n",
        "│ o   o │\n",
        "└───────┘\n",
        "\"\"\""
      ],
      "metadata": {
        "id": "6Vjp4RTjw9lz"
      },
      "execution_count": 2,
      "outputs": []
    },
    {
      "cell_type": "code",
      "source": [
        "TASS_FACES = [\n",
        "\"\"\"\n",
        "┌───────┐\n",
        "│       │\n",
        "│   o   │\n",
        "│       │\n",
        "└───────┘\n",
        "\"\"\", \n",
        "\"\"\"\n",
        "┌───────┐\n",
        "│       │\n",
        "│ o   o │\n",
        "│       │\n",
        "└───────┘\n",
        "\"\"\",\n",
        "\"\"\"\n",
        "┌───────┐\n",
        "│ o     │\n",
        "│   o   │\n",
        "│     o │\n",
        "└───────┘\n",
        "\"\"\",\n",
        "\"\"\"\n",
        "┌───────┐\n",
        "│ o   o │\n",
        "│       │\n",
        "│ o   o │\n",
        "└───────┘\n",
        "\"\"\",\n",
        "\"\"\"\n",
        "┌───────┐\n",
        "│ o   o │\n",
        "│   o   │\n",
        "│ o   o │\n",
        "└───────┘\n",
        "\"\"\",\n",
        "\"\"\"\n",
        "┌───────┐\n",
        "│ o   o │\n",
        "│ o   o │\n",
        "│ o   o │\n",
        "└───────┘\n",
        "\"\"\"\n",
        "]\n",
        "print(random.choice(TASS_FACES))"
      ],
      "metadata": {
        "colab": {
          "base_uri": "https://localhost:8080/"
        },
        "id": "zTSEP7ufWpwd",
        "outputId": "b3e29e4d-9d49-4593-e185-5fa03dde45a6"
      },
      "execution_count": 3,
      "outputs": [
        {
          "output_type": "stream",
          "name": "stdout",
          "text": [
            "\n",
            "┌───────┐\n",
            "│       │\n",
            "│   o   │\n",
            "│       │\n",
            "└───────┘\n",
            "\n"
          ]
        }
      ]
    },
    {
      "cell_type": "markdown",
      "source": [
        "# انداختن تاس"
      ],
      "metadata": {
        "id": "1flMd7ZK3NDY"
      }
    },
    {
      "cell_type": "code",
      "source": [
        "tass = random.randint(1, 6)\n",
        "\n",
        "if tass == 6:\n",
        "  print(TASS_6)\n",
        "elif tass == 5:\n",
        "  print(TASS_5)\n",
        "elif tass == 4:\n",
        "  print(TASS_4)\n",
        "elif tass == 3:\n",
        "  print(TASS_3)\n",
        "elif tass == 2:\n",
        "  print(TASS_2)\n",
        "else:\n",
        "  print(TASS_1)\n",
        "\n",
        "\n",
        "print(\"دوباره بنداز\")"
      ],
      "metadata": {
        "colab": {
          "base_uri": "https://localhost:8080/"
        },
        "id": "2sNMXFkPyvjJ",
        "outputId": "71fd6582-c627-4565-9d06-44e041256dae"
      },
      "execution_count": 4,
      "outputs": [
        {
          "output_type": "stream",
          "name": "stdout",
          "text": [
            "\n",
            "┌───────┐\n",
            "│       │\n",
            "│   o   │\n",
            "│       │\n",
            "└───────┘\n",
            "\n",
            "دوباره بنداز\n"
          ]
        }
      ]
    }
  ]
}